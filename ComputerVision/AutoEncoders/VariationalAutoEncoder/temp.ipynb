{
 "cells": [
  {
   "cell_type": "code",
   "execution_count": null,
   "metadata": {
    "is_executing": true
   },
   "outputs": [],
   "source": [
    "import tensorflow as tf\n",
    "from tqdm import tqdm\n",
    "# import argparse\n",
    "\n",
    "# parser = argparse.ArgumentParser(description='Select GPU[0-3]:')\n",
    "# parser.add_argument('--gpu', type=int, default=0,\n",
    "#                     help='GPU number')\n",
    "# args = parser.parse_args()\n",
    "physical_devices = tf.config.experimental.list_physical_devices('GPU')\n",
    "tf.config.experimental.set_visible_devices(physical_devices[0], 'GPU')\n",
    "\n",
    "\n",
    "def encoder(shape=(None, 784)):\n",
    "    inputs = tf.keras.layers.Input(shape)\n",
    "    outputs = tf.keras.layers.Dense(128, activation='relu')(inputs)\n",
    "    return tf.keras.Model(inputs, outputs)\n",
    "\n",
    "\n",
    "def decoder(shape=(None, 128)):\n",
    "    inputs = tf.keras.layers.Input(shape)\n",
    "    outputs = tf.keras.layers.Dense(784, activation='sigmoid')(inputs)\n",
    "    return tf.keras.Model(inputs, outputs)\n",
    "\n",
    "\n",
    "def autoencoder(shape=(None, 784)):\n",
    "    inputs = tf.keras.layers.Input(shape)\n",
    "    encoded = encoder()(inputs)\n",
    "    decoded = decoder()(encoded)\n",
    "    return tf.keras.Model(inputs, decoded)\n",
    "\n",
    "\n",
    "def process_images(image, label):\n",
    "    noise = 0.25\n",
    "    image = tf.reshape(image, (-1, 1))/255\n",
    "    image += noise*tf.random.normal(shape=image.shape)\n",
    "    image = tf.clip_by_value(image, 0, 1)\n",
    "    label = tf.reshape(label, (-1, 1))/255\n",
    "    return image, label\n"
   ]
  },
  {
   "cell_type": "code",
   "execution_count": 9,
   "metadata": {},
   "outputs": [
    {
     "name": "stdout",
     "output_type": "stream",
     "text": [
      "Model: \"model_5\"\n",
      "_________________________________________________________________\n",
      " Layer (type)                Output Shape              Param #   \n",
      "=================================================================\n",
      " input_4 (InputLayer)        [(None, None, 784)]       0         \n",
      "                                                                 \n",
      " model_3 (Functional)        (None, None, 128)         100480    \n",
      "                                                                 \n",
      " model_4 (Functional)        (None, None, 784)         101136    \n",
      "                                                                 \n",
      "=================================================================\n",
      "Total params: 201616 (787.56 KB)\n",
      "Trainable params: 201616 (787.56 KB)\n",
      "Non-trainable params: 0 (0.00 Byte)\n",
      "_________________________________________________________________\n",
      "Training data size: 55000\n",
      "Test data size: 10000\n",
      "Validation data size: 5000\n"
     ]
    }
   ],
   "source": [
    "model = autoencoder()\n",
    "model.summary()\n",
    "tf.keras.utils.plot_model(\n",
    "    model, to_file=autoencoder.__name__+'.png', show_shapes=True)\n",
    "\n",
    "(train_images, train_labels), (test_images,\n",
    "                                test_labels) = tf.keras.datasets.mnist.load_data()\n",
    "\n",
    "validation_images, validation_labels = train_images[:5000], train_labels[:5000]\n",
    "train_images, train_labels = train_images[5000:], train_labels[5000:]\n",
    "\n",
    "train_ds = tf.data.Dataset.from_tensor_slices((train_images, train_images))\n",
    "test_ds = tf.data.Dataset.from_tensor_slices((test_images, test_images))\n",
    "validation_ds = tf.data.Dataset.from_tensor_slices(\n",
    "    (validation_images, validation_images))\n",
    "\n",
    "train_ds_size = tf.data.experimental.cardinality(train_ds).numpy()\n",
    "test_ds_size = tf.data.experimental.cardinality(test_ds).numpy()\n",
    "validation_ds_size = tf.data.experimental.cardinality(\n",
    "    validation_ds).numpy()\n",
    "print(\"Training data size:\", train_ds_size)\n",
    "print(\"Test data size:\", test_ds_size)\n",
    "print(\"Validation data size:\", validation_ds_size)\n",
    "\n",
    "train_ds = (train_ds\n",
    "            .map(process_images)\n",
    "            .shuffle(buffer_size=train_ds_size)\n",
    "            .batch(batch_size=32, drop_remainder=True))\n",
    "test_ds = (test_ds\n",
    "            .map(process_images)\n",
    "            .shuffle(buffer_size=train_ds_size)\n",
    "            .batch(batch_size=8, drop_remainder=True))\n",
    "validation_ds = (validation_ds\n",
    "                    .map(process_images)\n",
    "                    .shuffle(buffer_size=train_ds_size)\n",
    "                    .batch(batch_size=32, drop_remainder=True))"
   ]
  },
  {
   "cell_type": "code",
   "execution_count": 10,
   "metadata": {},
   "outputs": [
    {
     "name": "stdout",
     "output_type": "stream",
     "text": [
      "(784, 1) (784, 1)\n"
     ]
    }
   ],
   "source": [
    "\n",
    "\n",
    "for image in train_ds.take(1):\n",
    "    img,lbl = image[0][0],image[1][0]\n",
    "    print(img.shape,lbl.shape)"
   ]
  },
  {
   "cell_type": "code",
   "execution_count": 11,
   "metadata": {},
   "outputs": [
    {
     "data": {
      "text/plain": [
       "<matplotlib.image.AxesImage at 0x7fd35c5f2a50>"
      ]
     },
     "execution_count": 11,
     "metadata": {},
     "output_type": "execute_result"
    },
    {
     "data": {
      "image/png": "[encoded data removed]",
      "text/plain": [
       "<Figure size 640x480 with 1 Axes>"
      ]
     },
     "metadata": {},
     "output_type": "display_data"
    }
   ],
   "source": [
    "import matplotlib.pyplot as plt\n",
    "import numpy as np\n",
    "\n",
    "imgs = np.hstack([img.numpy().reshape(28,28), lbl.numpy().reshape(28,28)])\n",
    "plt.imshow(imgs)"
   ]
  },
  {
   "cell_type": "code",
   "execution_count": null,
   "metadata": {},
   "outputs": [],
   "source": []
  },
  {
   "cell_type": "code",
   "execution_count": null,
   "metadata": {},
   "outputs": [],
   "source": []
  }
 ],
 "metadata": {
  "kernelspec": {
   "display_name": "GPU_CS23E001",
   "language": "python",
   "name": "python3"
  },
  "language_info": {
   "codemirror_mode": {
    "name": "ipython",
    "version": 3
   },
   "file_extension": ".py",
   "mimetype": "text/x-python",
   "name": "python",
   "nbconvert_exporter": "python",
   "pygments_lexer": "ipython3",
   "version": "3.11.5"
  },
  "orig_nbformat": 4
 },
 "nbformat": 4,
 "nbformat_minor": 2
}
