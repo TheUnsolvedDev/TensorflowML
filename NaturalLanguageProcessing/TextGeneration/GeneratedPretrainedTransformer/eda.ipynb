{
 "cells": [
  {
   "cell_type": "code",
   "execution_count": 16,
   "metadata": {},
   "outputs": [],
   "source": [
    "import numpy as np\n",
    "import pandas as pd\n",
    "import re"
   ]
  },
  {
   "cell_type": "code",
   "execution_count": 17,
   "metadata": {},
   "outputs": [],
   "source": [
    "files = ['archive/train.csv','archive/validation.csv']\n",
    "df = pd.read_csv(files[1])"
   ]
  },
  {
   "cell_type": "code",
   "execution_count": 18,
   "metadata": {},
   "outputs": [
    {
     "name": "stdout",
     "output_type": "stream",
     "text": [
      "<class 'pandas.core.frame.DataFrame'>\n",
      "RangeIndex: 21990 entries, 0 to 21989\n",
      "Data columns (total 1 columns):\n",
      " #   Column  Non-Null Count  Dtype \n",
      "---  ------  --------------  ----- \n",
      " 0   text    21990 non-null  object\n",
      "dtypes: object(1)\n",
      "memory usage: 171.9+ KB\n",
      "text    0\n",
      "dtype: int64\n"
     ]
    }
   ],
   "source": [
    "df.head(),df.info()\n",
    "print(df.isnull().sum()) "
   ]
  },
  {
   "cell_type": "code",
   "execution_count": 19,
   "metadata": {},
   "outputs": [
    {
     "name": "stdout",
     "output_type": "stream",
     "text": [
      "text    0\n",
      "dtype: int64\n"
     ]
    }
   ],
   "source": [
    "df.dropna(subset=['text'], inplace=True)\n",
    "print(df.isnull().sum())"
   ]
  },
  {
   "cell_type": "code",
   "execution_count": 20,
   "metadata": {},
   "outputs": [
    {
     "name": "stdout",
     "output_type": "stream",
     "text": [
      "                                                text  \\\n",
      "0  Spot. Spot saw the shiny car and said, \"Wow, K...   \n",
      "1  Once upon a time, in a big forest, there lived...   \n",
      "2  Once upon a time, in a small yard, there was a...   \n",
      "3  Once upon a time, there was a thoughtful girl ...   \n",
      "4  Once upon a time, there was a kind farmer. He ...   \n",
      "\n",
      "                                        cleaned_text  \n",
      "0  spot spot saw the shiny car and said wow kitty...  \n",
      "1  once upon a time in a big forest there lived a...  \n",
      "2  once upon a time in a small yard there was a s...  \n",
      "3  once upon a time there was a thoughtful girl n...  \n",
      "4  once upon a time there was a kind farmer he ha...  \n"
     ]
    }
   ],
   "source": [
    "def clean_text(text):\n",
    "    if isinstance(text, str):\n",
    "        text = text.lower()  \n",
    "        text = re.sub(r'\\d+', ' ', text)  # Removes digits\n",
    "        text = re.sub(r'[^\\w\\s\\']', ' ', text)  # Removes punctuation but keeps apostrophes\n",
    "        text = re.sub(r'\\s+', ' ', text) \n",
    "        return text\n",
    "    return text \n",
    "\n",
    "df['cleaned_text'] = df['text'].apply(clean_text).str.lower()\n",
    "print(df[['text', 'cleaned_text']].head())"
   ]
  },
  {
   "cell_type": "code",
   "execution_count": 21,
   "metadata": {},
   "outputs": [
    {
     "name": "stdout",
     "output_type": "stream",
     "text": [
      "0        spot spot saw the shiny car and said wow kitty...\n",
      "1        once upon a time in a big forest there lived a...\n",
      "2        once upon a time in a small yard there was a s...\n",
      "3        once upon a time there was a thoughtful girl n...\n",
      "4        once upon a time there was a kind farmer he ha...\n",
      "                               ...                        \n",
      "21985    john was out in the backyard playing he saw a ...\n",
      "21986    once upon a time there was a green vehicle eve...\n",
      "21987    once upon a time there was a package it was a ...\n",
      "21988    once upon a time there was a thin rhinoceros h...\n",
      "21989    once there was a little girl named sarah she w...\n",
      "Name: cleaned_text, Length: 21990, dtype: object\n"
     ]
    }
   ],
   "source": [
    "print(df['cleaned_text'])\n",
    "with open('dataset.txt','+a') as f:\n",
    "    for data in df['cleaned_text']:\n",
    "        f.write(data.replace('\\n',' '))\n",
    "        f.write('\\n')"
   ]
  },
  {
   "cell_type": "code",
   "execution_count": null,
   "metadata": {},
   "outputs": [],
   "source": []
  }
 ],
 "metadata": {
  "kernelspec": {
   "display_name": "tf",
   "language": "python",
   "name": "python3"
  },
  "language_info": {
   "codemirror_mode": {
    "name": "ipython",
    "version": 3
   },
   "file_extension": ".py",
   "mimetype": "text/x-python",
   "name": "python",
   "nbconvert_exporter": "python",
   "pygments_lexer": "ipython3",
   "version": "3.12.9"
  }
 },
 "nbformat": 4,
 "nbformat_minor": 2
}
